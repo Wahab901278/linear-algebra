{
 "cells": [
  {
   "cell_type": "markdown",
   "id": "fantastic-forest",
   "metadata": {},
   "source": [
    "# Vector/Matrix Definition and Usage "
   ]
  },
  {
   "cell_type": "markdown",
   "id": "perfect-lawrence",
   "metadata": {},
   "source": [
    "## Vector Representation"
   ]
  },
  {
   "cell_type": "code",
   "execution_count": 3,
   "id": "cosmetic-horror",
   "metadata": {},
   "outputs": [],
   "source": [
    "class Vector: \n",
    "    def __init__(self, x = 0.0, y = 0.0): \n",
    "        self.x = x\n",
    "        self.y = y\n",
    "    \n",
    "    def __str__(self): \n",
    "        return \"[{}, {}]\".format(str(self.x), str(self.y))"
   ]
  },
  {
   "cell_type": "code",
   "execution_count": 4,
   "id": "physical-yeast",
   "metadata": {},
   "outputs": [],
   "source": [
    "a = Vector(2, 4)"
   ]
  },
  {
   "cell_type": "code",
   "execution_count": 5,
   "id": "dress-maria",
   "metadata": {},
   "outputs": [
    {
     "name": "stdout",
     "output_type": "stream",
     "text": [
      "[2, 4]\n"
     ]
    }
   ],
   "source": [
    "print(a)"
   ]
  },
  {
   "cell_type": "code",
   "execution_count": 6,
   "id": "brave-chemical",
   "metadata": {},
   "outputs": [
    {
     "name": "stdout",
     "output_type": "stream",
     "text": [
      "[5, 2]\n"
     ]
    }
   ],
   "source": [
    "b = Vector(5, 2)\n",
    "print(b)"
   ]
  },
  {
   "cell_type": "code",
   "execution_count": 7,
   "id": "duplicate-portuguese",
   "metadata": {},
   "outputs": [],
   "source": [
    "def add(self, b): \n",
    "    c = Vector() \n",
    "    c.x = self.x + b.x \n",
    "    c.y = self.y + b.y \n",
    "    return c\n",
    "\n",
    "\n",
    "\n",
    "Vector.add = add "
   ]
  },
  {
   "cell_type": "code",
   "execution_count": 8,
   "id": "honey-passing",
   "metadata": {},
   "outputs": [
    {
     "name": "stdout",
     "output_type": "stream",
     "text": [
      "[7, 6]\n"
     ]
    }
   ],
   "source": [
    "c = a.add(b)\n",
    "print(c)"
   ]
  },
  {
   "cell_type": "code",
   "execution_count": 9,
   "id": "asian-husband",
   "metadata": {},
   "outputs": [],
   "source": [
    "def mul(self, s): \n",
    "    return Vector(s * self.x, s * self.y)\n",
    "\n",
    "Vector.mul = mul "
   ]
  },
  {
   "cell_type": "code",
   "execution_count": 10,
   "id": "assisted-thirty",
   "metadata": {},
   "outputs": [
    {
     "name": "stdout",
     "output_type": "stream",
     "text": [
      "[4, 8]\n"
     ]
    }
   ],
   "source": [
    "d = a.mul(2)\n",
    "print(d)"
   ]
  },
  {
   "cell_type": "code",
   "execution_count": 11,
   "id": "polyphonic-penny",
   "metadata": {},
   "outputs": [],
   "source": [
    "def sub(self, b): \n",
    "    # We use the definition of vector subtraction \n",
    "    #   instead of defining something new \n",
    "    \n",
    "    return self.add(  b.mul(-1)  )\n",
    "\n",
    "\n",
    "Vector.sub = sub"
   ]
  },
  {
   "cell_type": "code",
   "execution_count": 12,
   "id": "oriental-residence",
   "metadata": {},
   "outputs": [
    {
     "name": "stdout",
     "output_type": "stream",
     "text": [
      "[-1, 6]\n"
     ]
    }
   ],
   "source": [
    "d_min_b = d.sub(b)\n",
    "print(d_min_b)"
   ]
  },
  {
   "cell_type": "code",
   "execution_count": 13,
   "id": "operating-conditions",
   "metadata": {},
   "outputs": [],
   "source": [
    "# TODO: define dot products and cross products "
   ]
  },
  {
   "cell_type": "markdown",
   "id": "pending-moses",
   "metadata": {},
   "source": [
    "## Matrix Representation (Dense)"
   ]
  },
  {
   "cell_type": "code",
   "execution_count": 14,
   "id": "chicken-catch",
   "metadata": {},
   "outputs": [],
   "source": [
    "class Matrix: \n",
    " \n",
    "    def __init__(self, dims, fill):    \n",
    "        self.rows = dims[0]  \n",
    "        self.cols = dims[1]   \n",
    "        \n",
    "        self.A = [\n",
    "            [fill] * self.cols             # for each row, this many columns \n",
    "            for i in range(self.rows)      # create this many rows \n",
    "        ]"
   ]
  },
  {
   "cell_type": "code",
   "execution_count": 15,
   "id": "governing-mason",
   "metadata": {},
   "outputs": [],
   "source": [
    "m = Matrix((3, 4), 2.0)"
   ]
  },
  {
   "cell_type": "code",
   "execution_count": 16,
   "id": "million-palestinian",
   "metadata": {},
   "outputs": [
    {
     "name": "stdout",
     "output_type": "stream",
     "text": [
      "<__main__.Matrix object at 0x7c7750bf6790>\n"
     ]
    }
   ],
   "source": [
    "print(m)"
   ]
  },
  {
   "cell_type": "code",
   "execution_count": 17,
   "id": "presidential-outreach",
   "metadata": {},
   "outputs": [],
   "source": [
    "def __str__(self):     \n",
    "    rows = len(self.A) # Get the first dimension \n",
    "    ret = ''     \n",
    "    \n",
    "    for i in range(rows):\n",
    "        cols = len(self.A[i]) \n",
    "        \n",
    "        for j in range(cols): \n",
    "            ret += str(self.A[i][j]) + \"\\t\"\n",
    "        ret += \"\\n\"\n",
    "\n",
    "    return ret\n",
    "\n",
    "\n",
    "Matrix.__str__ = __str__ "
   ]
  },
  {
   "cell_type": "code",
   "execution_count": 18,
   "id": "spiritual-serum",
   "metadata": {},
   "outputs": [
    {
     "name": "stdout",
     "output_type": "stream",
     "text": [
      "2.0\t2.0\t2.0\t2.0\t\n",
      "2.0\t2.0\t2.0\t2.0\t\n",
      "2.0\t2.0\t2.0\t2.0\t\n",
      "\n"
     ]
    }
   ],
   "source": [
    "print(m)"
   ]
  },
  {
   "cell_type": "code",
   "execution_count": 19,
   "id": "interior-hormone",
   "metadata": {},
   "outputs": [],
   "source": [
    "# This implementation of __str__ is not a good idea. Can you think of a reason why? "
   ]
  },
  {
   "cell_type": "code",
   "execution_count": 20,
   "id": "advised-short",
   "metadata": {},
   "outputs": [
    {
     "name": "stdout",
     "output_type": "stream",
     "text": [
      "CPU times: user 41 µs, sys: 9 µs, total: 50 µs\n",
      "Wall time: 54.4 µs\n"
     ]
    }
   ],
   "source": [
    "%time n = Matrix((100, 100), 0.0)"
   ]
  },
  {
   "cell_type": "markdown",
   "id": "proved-culture",
   "metadata": {},
   "source": [
    "### Memory Usage "
   ]
  },
  {
   "cell_type": "code",
   "execution_count": 21,
   "id": "gentle-custom",
   "metadata": {},
   "outputs": [
    {
     "name": "stdout",
     "output_type": "stream",
     "text": [
      "56\n",
      "56\n"
     ]
    }
   ],
   "source": [
    "from sys import getsizeof\n",
    "print(getsizeof(m))\n",
    "print(getsizeof(n))"
   ]
  },
  {
   "cell_type": "code",
   "execution_count": 27,
   "id": "usual-capture",
   "metadata": {
    "scrolled": true
   },
   "outputs": [
    {
     "name": "stdout",
     "output_type": "stream",
     "text": [
      "Collecting pympler\n",
      "  Obtaining dependency information for pympler from https://files.pythonhosted.org/packages/2c/42/41e1469ed0b37b9c8532cb8074bea179f7d85ee7e82a59b5b6c289ed6045/Pympler-1.0.1-py3-none-any.whl.metadata\n",
      "  Downloading Pympler-1.0.1-py3-none-any.whl.metadata (3.4 kB)\n",
      "Downloading Pympler-1.0.1-py3-none-any.whl (164 kB)\n",
      "\u001b[2K   \u001b[38;2;114;156;31m━━━━━━━━━━━━━━━━━━━━━━━━━━━━━━━━━━━━━━━\u001b[0m \u001b[32m164.8/164.8 kB\u001b[0m \u001b[31m410.4 kB/s\u001b[0m eta \u001b[36m0:00:00\u001b[0m1m375.8 kB/s\u001b[0m eta \u001b[36m0:00:01\u001b[0m\n",
      "\u001b[?25hInstalling collected packages: pympler\n",
      "Successfully installed pympler-1.0.1\n"
     ]
    }
   ],
   "source": [
    "!pip install pympler  # to get actual size"
   ]
  },
  {
   "cell_type": "code",
   "execution_count": 22,
   "id": "silver-niger",
   "metadata": {},
   "outputs": [],
   "source": [
    "from pympler.asizeof import asizeof"
   ]
  },
  {
   "cell_type": "code",
   "execution_count": 23,
   "id": "loved-theta",
   "metadata": {},
   "outputs": [
    {
     "data": {
      "text/plain": [
       "(952, 87088)"
      ]
     },
     "execution_count": 23,
     "metadata": {},
     "output_type": "execute_result"
    }
   ],
   "source": [
    "asizeof(m), asizeof(n)"
   ]
  },
  {
   "cell_type": "markdown",
   "id": "cathedral-tender",
   "metadata": {},
   "source": [
    "Let's increase the size a little and see how it goes. "
   ]
  },
  {
   "cell_type": "code",
   "execution_count": 24,
   "id": "pressing-threat",
   "metadata": {},
   "outputs": [],
   "source": [
    "dim = 5000"
   ]
  },
  {
   "cell_type": "code",
   "execution_count": 29,
   "id": "corrected-rotation",
   "metadata": {},
   "outputs": [
    {
     "name": "stdout",
     "output_type": "stream",
     "text": [
      "CPU times: user 217 ms, sys: 23.2 ms, total: 240 ms\n",
      "Wall time: 239 ms\n"
     ]
    }
   ],
   "source": [
    "%time  m = Matrix((dim, dim), 0.0)"
   ]
  },
  {
   "cell_type": "code",
   "execution_count": 30,
   "id": "particular-jesus",
   "metadata": {},
   "outputs": [
    {
     "name": "stdout",
     "output_type": "stream",
     "text": [
      "191.04 MBs\n"
     ]
    }
   ],
   "source": [
    "size = asizeof(m) / (1024 * 1024)\n",
    "\n",
    "print(\"{:.2f} MBs\".format(size))"
   ]
  },
  {
   "cell_type": "markdown",
   "id": "neural-earth",
   "metadata": {},
   "source": [
    "This is taking up so much memory because it's storing all the 0s **explicitly**! This is called a *dense* representation of matrices. Another way to do this is to not store 0s at all! That makes a matric *sparse*. "
   ]
  },
  {
   "cell_type": "code",
   "execution_count": 33,
   "id": "stuffed-longitude",
   "metadata": {},
   "outputs": [],
   "source": [
    "# recall that we can get values from our matrix using indices \n",
    "def get(self, i, j): \n",
    "    \n",
    "    # Error checking \n",
    "    if i < 0 or i > self.rows: \n",
    "        raise ValueError(\"Row index out of range.\")\n",
    "    if j < 0 or j > self.cols: \n",
    "        raise ValueError(\"Column index out of range.\")\n",
    "    \n",
    "    # Value return\n",
    "    return self.A[i][j]\n",
    "\n",
    "Matrix.get = get"
   ]
  },
  {
   "cell_type": "code",
   "execution_count": 34,
   "id": "variable-reaction",
   "metadata": {},
   "outputs": [
    {
     "data": {
      "text/plain": [
       "0.0"
      ]
     },
     "execution_count": 34,
     "metadata": {},
     "output_type": "execute_result"
    }
   ],
   "source": [
    "m.get(1, 2)"
   ]
  },
  {
   "cell_type": "code",
   "execution_count": 35,
   "id": "decreased-macro",
   "metadata": {},
   "outputs": [
    {
     "data": {
      "text/plain": [
       "0.0"
      ]
     },
     "execution_count": 35,
     "metadata": {},
     "output_type": "execute_result"
    }
   ],
   "source": [
    "m.get(15, 0)"
   ]
  },
  {
   "cell_type": "code",
   "execution_count": 36,
   "id": "satellite-miller",
   "metadata": {},
   "outputs": [
    {
     "data": {
      "text/plain": [
       "0.0"
      ]
     },
     "execution_count": 36,
     "metadata": {},
     "output_type": "execute_result"
    }
   ],
   "source": [
    "m.get(1, 10)"
   ]
  },
  {
   "cell_type": "markdown",
   "id": "framed-constraint",
   "metadata": {},
   "source": [
    "### Matrix Representation (Sparse)"
   ]
  },
  {
   "cell_type": "code",
   "execution_count": 31,
   "id": "external-blend",
   "metadata": {},
   "outputs": [],
   "source": [
    "class Matrix: \n",
    " \n",
    "    def __init__(self, dims):    \n",
    "        self.rows = dims[0]  \n",
    "        self.cols = dims[1]   \n",
    "        self.vals = {} \n",
    "        \n",
    "        # Let's assume for a minute that fill is 0 \n",
    "        \n",
    "    # obviously need a new __str__ here .... "
   ]
  },
  {
   "cell_type": "code",
   "execution_count": 32,
   "id": "hydraulic-olive",
   "metadata": {},
   "outputs": [],
   "source": [
    "def set(self, i, j, val): \n",
    "    self.vals[   (i, j)    ] = val # key name \n",
    "\n",
    "\n",
    "Matrix.set = set "
   ]
  },
  {
   "cell_type": "code",
   "execution_count": 39,
   "id": "dressed-lebanon",
   "metadata": {},
   "outputs": [],
   "source": [
    "# sparse implementation of get \n",
    "def get(self, i, j): \n",
    "    \n",
    "    # Error checking \n",
    "    if i < 0 or i > self.rows: \n",
    "        raise ValueError(\"Row index out of range.\")\n",
    "    if j < 0 or j > self.cols: \n",
    "        raise ValueError(\"Column index out of range.\")\n",
    "    \n",
    "    \n",
    "    # value return \n",
    "    if (i, j) in self.vals: \n",
    "        return self.vals[  (i, j)  ]  # value at this key name\n",
    "    \n",
    "    return 0.0\n",
    "    \n",
    "Matrix.get = get"
   ]
  },
  {
   "cell_type": "code",
   "execution_count": 40,
   "id": "gothic-reset",
   "metadata": {},
   "outputs": [],
   "source": [
    "m = Matrix((5, 5))"
   ]
  },
  {
   "cell_type": "code",
   "execution_count": 41,
   "id": "injured-carol",
   "metadata": {},
   "outputs": [
    {
     "name": "stdout",
     "output_type": "stream",
     "text": [
      "{}\n"
     ]
    }
   ],
   "source": [
    "print(m.vals)"
   ]
  },
  {
   "cell_type": "code",
   "execution_count": 42,
   "id": "genetic-algorithm",
   "metadata": {},
   "outputs": [
    {
     "data": {
      "text/plain": [
       "0.0"
      ]
     },
     "execution_count": 42,
     "metadata": {},
     "output_type": "execute_result"
    }
   ],
   "source": [
    "m.get(1, 1)"
   ]
  },
  {
   "cell_type": "code",
   "execution_count": 43,
   "id": "arbitrary-bosnia",
   "metadata": {},
   "outputs": [
    {
     "ename": "ValueError",
     "evalue": "Row index out of range.",
     "output_type": "error",
     "traceback": [
      "\u001b[0;31m---------------------------------------------------------------------------\u001b[0m",
      "\u001b[0;31mValueError\u001b[0m                                Traceback (most recent call last)",
      "Cell \u001b[0;32mIn[43], line 1\u001b[0m\n\u001b[0;32m----> 1\u001b[0m m\u001b[38;5;241m.\u001b[39mget(\u001b[38;5;241m10\u001b[39m, \u001b[38;5;241m2\u001b[39m)\n",
      "Cell \u001b[0;32mIn[39], line 6\u001b[0m, in \u001b[0;36mget\u001b[0;34m(self, i, j)\u001b[0m\n\u001b[1;32m      2\u001b[0m \u001b[38;5;28;01mdef\u001b[39;00m \u001b[38;5;21mget\u001b[39m(\u001b[38;5;28mself\u001b[39m, i, j): \n\u001b[1;32m      3\u001b[0m     \n\u001b[1;32m      4\u001b[0m     \u001b[38;5;66;03m# Error checking \u001b[39;00m\n\u001b[1;32m      5\u001b[0m     \u001b[38;5;28;01mif\u001b[39;00m i \u001b[38;5;241m<\u001b[39m \u001b[38;5;241m0\u001b[39m \u001b[38;5;129;01mor\u001b[39;00m i \u001b[38;5;241m>\u001b[39m \u001b[38;5;28mself\u001b[39m\u001b[38;5;241m.\u001b[39mrows: \n\u001b[0;32m----> 6\u001b[0m         \u001b[38;5;28;01mraise\u001b[39;00m \u001b[38;5;167;01mValueError\u001b[39;00m(\u001b[38;5;124m\"\u001b[39m\u001b[38;5;124mRow index out of range.\u001b[39m\u001b[38;5;124m\"\u001b[39m)\n\u001b[1;32m      7\u001b[0m     \u001b[38;5;28;01mif\u001b[39;00m j \u001b[38;5;241m<\u001b[39m \u001b[38;5;241m0\u001b[39m \u001b[38;5;129;01mor\u001b[39;00m j \u001b[38;5;241m>\u001b[39m \u001b[38;5;28mself\u001b[39m\u001b[38;5;241m.\u001b[39mcols: \n\u001b[1;32m      8\u001b[0m         \u001b[38;5;28;01mraise\u001b[39;00m \u001b[38;5;167;01mValueError\u001b[39;00m(\u001b[38;5;124m\"\u001b[39m\u001b[38;5;124mColumn index out of range.\u001b[39m\u001b[38;5;124m\"\u001b[39m)\n",
      "\u001b[0;31mValueError\u001b[0m: Row index out of range."
     ]
    }
   ],
   "source": [
    "m.get(10, 2)"
   ]
  },
  {
   "cell_type": "code",
   "execution_count": null,
   "id": "clinical-audio",
   "metadata": {},
   "outputs": [],
   "source": [
    "m.set(1, 2, 15.0)"
   ]
  },
  {
   "cell_type": "code",
   "execution_count": null,
   "id": "powerful-division",
   "metadata": {},
   "outputs": [],
   "source": [
    "m.get(1, 2)"
   ]
  },
  {
   "cell_type": "code",
   "execution_count": null,
   "id": "daily-forge",
   "metadata": {},
   "outputs": [],
   "source": [
    "m.vals"
   ]
  },
  {
   "cell_type": "code",
   "execution_count": null,
   "id": "future-board",
   "metadata": {},
   "outputs": [],
   "source": [
    "m.set(1, 4, 29.9)"
   ]
  },
  {
   "cell_type": "code",
   "execution_count": null,
   "id": "virtual-publisher",
   "metadata": {},
   "outputs": [],
   "source": [
    "m.get(1, 4)"
   ]
  },
  {
   "cell_type": "code",
   "execution_count": null,
   "id": "personal-local",
   "metadata": {},
   "outputs": [],
   "source": [
    "dim = 500 # 5_000_0000_000\n",
    "m = Matrix((dim, dim))"
   ]
  },
  {
   "cell_type": "code",
   "execution_count": null,
   "id": "decent-carter",
   "metadata": {},
   "outputs": [],
   "source": [
    "asizeof(m)"
   ]
  },
  {
   "cell_type": "code",
   "execution_count": null,
   "id": "norwegian-auckland",
   "metadata": {},
   "outputs": [],
   "source": [
    "# TODO: create addition, subtraction and matrix multiplication methods "
   ]
  },
  {
   "cell_type": "code",
   "execution_count": 1,
   "id": "genetic-significance",
   "metadata": {},
   "outputs": [
    {
     "data": {
      "text/plain": [
       "[2, 2, 2]"
      ]
     },
     "execution_count": 1,
     "metadata": {},
     "output_type": "execute_result"
    }
   ],
   "source": [
    "[2]*3"
   ]
  },
  {
   "cell_type": "code",
   "execution_count": null,
   "id": "contained-restaurant",
   "metadata": {},
   "outputs": [],
   "source": []
  },
  {
   "cell_type": "code",
   "execution_count": null,
   "id": "e9891d67",
   "metadata": {},
   "outputs": [],
   "source": []
  }
 ],
 "metadata": {
  "kernelspec": {
   "display_name": "Python 3 (ipykernel)",
   "language": "python",
   "name": "python3"
  },
  "language_info": {
   "codemirror_mode": {
    "name": "ipython",
    "version": 3
   },
   "file_extension": ".py",
   "mimetype": "text/x-python",
   "name": "python",
   "nbconvert_exporter": "python",
   "pygments_lexer": "ipython3",
   "version": "3.11.5"
  },
  "toc-autonumbering": true,
  "toc-showcode": false,
  "toc-showmarkdowntxt": false,
  "toc-showtags": false
 },
 "nbformat": 4,
 "nbformat_minor": 5
}
